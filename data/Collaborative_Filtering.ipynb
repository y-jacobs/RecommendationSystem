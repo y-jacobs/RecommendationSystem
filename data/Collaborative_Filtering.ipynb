{
  "nbformat": 4,
  "nbformat_minor": 0,
  "metadata": {
    "colab": {
      "name": "Collaborative Filtering.ipynb",
      "provenance": [],
      "collapsed_sections": []
    },
    "kernelspec": {
      "name": "python3",
      "display_name": "Python 3"
    }
  },
  "cells": [
    {
      "cell_type": "markdown",
      "metadata": {
        "id": "nOinrSTZQC7t"
      },
      "source": [
        "# **Collaborative Filtering - User based**  \n",
        "\n",
        "\n"
      ]
    },
    {
      "cell_type": "markdown",
      "metadata": {
        "id": "cuQRMyX3q56t"
      },
      "source": [
        "## Simple example\n",
        " \n",
        "*   4 users, 3 items.\n",
        "*   Users $u_0$  and $u_2$ share the same ratings\n"
      ]
    },
    {
      "cell_type": "code",
      "metadata": {
        "id": "ESDyfbHcIdqR"
      },
      "source": [
        "import pandas as pd\n",
        "import numpy as np\n",
        "import matplotlib\n",
        "import matplotlib.pyplot as plt\n",
        "import heapq\n",
        "\n",
        "from sklearn.metrics.pairwise import pairwise_distances\n",
        "\n"
      ],
      "execution_count": 18,
      "outputs": []
    },
    {
      "cell_type": "code",
      "metadata": {
        "colab": {
          "base_uri": "https://localhost:8080/",
          "height": 175
        },
        "id": "PGkdF1r1QLkb",
        "outputId": "52c46404-bfea-4dbd-ef84-b8811ae7f098"
      },
      "source": [
        "\n",
        "#Note that users 0 and 3 have the same ratings\n",
        "ratings_pd = pd.DataFrame({'m0':[2,3,4,6],'m1':[2,3,np.nan,5],'m2':[5,9,6,1]}, index=['u0','u1','u2','u3'])\n",
        "ratings = ratings_pd.to_numpy()\n",
        "ratings_pd"
      ],
      "execution_count": 19,
      "outputs": [
        {
          "output_type": "execute_result",
          "data": {
            "text/html": [
              "\n",
              "  <div id=\"df-d4cbde3c-7db7-4676-a6cb-8e8b63a1e3ac\">\n",
              "    <div class=\"colab-df-container\">\n",
              "      <div>\n",
              "<style scoped>\n",
              "    .dataframe tbody tr th:only-of-type {\n",
              "        vertical-align: middle;\n",
              "    }\n",
              "\n",
              "    .dataframe tbody tr th {\n",
              "        vertical-align: top;\n",
              "    }\n",
              "\n",
              "    .dataframe thead th {\n",
              "        text-align: right;\n",
              "    }\n",
              "</style>\n",
              "<table border=\"1\" class=\"dataframe\">\n",
              "  <thead>\n",
              "    <tr style=\"text-align: right;\">\n",
              "      <th></th>\n",
              "      <th>m0</th>\n",
              "      <th>m1</th>\n",
              "      <th>m2</th>\n",
              "    </tr>\n",
              "  </thead>\n",
              "  <tbody>\n",
              "    <tr>\n",
              "      <th>u0</th>\n",
              "      <td>2</td>\n",
              "      <td>2.0</td>\n",
              "      <td>5</td>\n",
              "    </tr>\n",
              "    <tr>\n",
              "      <th>u1</th>\n",
              "      <td>3</td>\n",
              "      <td>3.0</td>\n",
              "      <td>9</td>\n",
              "    </tr>\n",
              "    <tr>\n",
              "      <th>u2</th>\n",
              "      <td>4</td>\n",
              "      <td>NaN</td>\n",
              "      <td>6</td>\n",
              "    </tr>\n",
              "    <tr>\n",
              "      <th>u3</th>\n",
              "      <td>6</td>\n",
              "      <td>5.0</td>\n",
              "      <td>1</td>\n",
              "    </tr>\n",
              "  </tbody>\n",
              "</table>\n",
              "</div>\n",
              "      <button class=\"colab-df-convert\" onclick=\"convertToInteractive('df-d4cbde3c-7db7-4676-a6cb-8e8b63a1e3ac')\"\n",
              "              title=\"Convert this dataframe to an interactive table.\"\n",
              "              style=\"display:none;\">\n",
              "        \n",
              "  <svg xmlns=\"http://www.w3.org/2000/svg\" height=\"24px\"viewBox=\"0 0 24 24\"\n",
              "       width=\"24px\">\n",
              "    <path d=\"M0 0h24v24H0V0z\" fill=\"none\"/>\n",
              "    <path d=\"M18.56 5.44l.94 2.06.94-2.06 2.06-.94-2.06-.94-.94-2.06-.94 2.06-2.06.94zm-11 1L8.5 8.5l.94-2.06 2.06-.94-2.06-.94L8.5 2.5l-.94 2.06-2.06.94zm10 10l.94 2.06.94-2.06 2.06-.94-2.06-.94-.94-2.06-.94 2.06-2.06.94z\"/><path d=\"M17.41 7.96l-1.37-1.37c-.4-.4-.92-.59-1.43-.59-.52 0-1.04.2-1.43.59L10.3 9.45l-7.72 7.72c-.78.78-.78 2.05 0 2.83L4 21.41c.39.39.9.59 1.41.59.51 0 1.02-.2 1.41-.59l7.78-7.78 2.81-2.81c.8-.78.8-2.07 0-2.86zM5.41 20L4 18.59l7.72-7.72 1.47 1.35L5.41 20z\"/>\n",
              "  </svg>\n",
              "      </button>\n",
              "      \n",
              "  <style>\n",
              "    .colab-df-container {\n",
              "      display:flex;\n",
              "      flex-wrap:wrap;\n",
              "      gap: 12px;\n",
              "    }\n",
              "\n",
              "    .colab-df-convert {\n",
              "      background-color: #E8F0FE;\n",
              "      border: none;\n",
              "      border-radius: 50%;\n",
              "      cursor: pointer;\n",
              "      display: none;\n",
              "      fill: #1967D2;\n",
              "      height: 32px;\n",
              "      padding: 0 0 0 0;\n",
              "      width: 32px;\n",
              "    }\n",
              "\n",
              "    .colab-df-convert:hover {\n",
              "      background-color: #E2EBFA;\n",
              "      box-shadow: 0px 1px 2px rgba(60, 64, 67, 0.3), 0px 1px 3px 1px rgba(60, 64, 67, 0.15);\n",
              "      fill: #174EA6;\n",
              "    }\n",
              "\n",
              "    [theme=dark] .colab-df-convert {\n",
              "      background-color: #3B4455;\n",
              "      fill: #D2E3FC;\n",
              "    }\n",
              "\n",
              "    [theme=dark] .colab-df-convert:hover {\n",
              "      background-color: #434B5C;\n",
              "      box-shadow: 0px 1px 3px 1px rgba(0, 0, 0, 0.15);\n",
              "      filter: drop-shadow(0px 1px 2px rgba(0, 0, 0, 0.3));\n",
              "      fill: #FFFFFF;\n",
              "    }\n",
              "  </style>\n",
              "\n",
              "      <script>\n",
              "        const buttonEl =\n",
              "          document.querySelector('#df-d4cbde3c-7db7-4676-a6cb-8e8b63a1e3ac button.colab-df-convert');\n",
              "        buttonEl.style.display =\n",
              "          google.colab.kernel.accessAllowed ? 'block' : 'none';\n",
              "\n",
              "        async function convertToInteractive(key) {\n",
              "          const element = document.querySelector('#df-d4cbde3c-7db7-4676-a6cb-8e8b63a1e3ac');\n",
              "          const dataTable =\n",
              "            await google.colab.kernel.invokeFunction('convertToInteractive',\n",
              "                                                     [key], {});\n",
              "          if (!dataTable) return;\n",
              "\n",
              "          const docLinkHtml = 'Like what you see? Visit the ' +\n",
              "            '<a target=\"_blank\" href=https://colab.research.google.com/notebooks/data_table.ipynb>data table notebook</a>'\n",
              "            + ' to learn more about interactive tables.';\n",
              "          element.innerHTML = '';\n",
              "          dataTable['output_type'] = 'display_data';\n",
              "          await google.colab.output.renderOutput(dataTable, element);\n",
              "          const docLink = document.createElement('div');\n",
              "          docLink.innerHTML = docLinkHtml;\n",
              "          element.appendChild(docLink);\n",
              "        }\n",
              "      </script>\n",
              "    </div>\n",
              "  </div>\n",
              "  "
            ],
            "text/plain": [
              "    m0   m1  m2\n",
              "u0   2  2.0   5\n",
              "u1   3  3.0   9\n",
              "u2   4  NaN   6\n",
              "u3   6  5.0   1"
            ]
          },
          "metadata": {},
          "execution_count": 19
        }
      ]
    },
    {
      "cell_type": "code",
      "metadata": {
        "colab": {
          "base_uri": "https://localhost:8080/"
        },
        "id": "vhXftn72QL42",
        "outputId": "fee45255-ecaa-440a-ecc9-1430f0847d2b"
      },
      "source": [
        "#predict(ratings.to_numpy(), user_similarity, type='user')\n",
        "mean_user_rating = ratings_pd.mean(axis=1).to_numpy().reshape(-1, 1)\n",
        "mean_user_rating.round(2)"
      ],
      "execution_count": 20,
      "outputs": [
        {
          "output_type": "execute_result",
          "data": {
            "text/plain": [
              "array([[3.],\n",
              "       [5.],\n",
              "       [5.],\n",
              "       [4.]])"
            ]
          },
          "metadata": {},
          "execution_count": 20
        }
      ]
    },
    {
      "cell_type": "code",
      "metadata": {
        "colab": {
          "base_uri": "https://localhost:8080/"
        },
        "id": "1fieMukOQMd_",
        "outputId": "b6ebba7d-ef37-4cd9-c8e5-8040b8f15c17"
      },
      "source": [
        "ratings_diff = (ratings - mean_user_rating)\n",
        "ratings_diff[np.isnan(ratings_diff)]=0\n",
        "ratings_diff.round(2)"
      ],
      "execution_count": 21,
      "outputs": [
        {
          "output_type": "execute_result",
          "data": {
            "text/plain": [
              "array([[-1., -1.,  2.],\n",
              "       [-2., -2.,  4.],\n",
              "       [-1.,  0.,  1.],\n",
              "       [ 2.,  1., -3.]])"
            ]
          },
          "metadata": {},
          "execution_count": 21
        }
      ]
    },
    {
      "cell_type": "code",
      "metadata": {
        "colab": {
          "base_uri": "https://localhost:8080/",
          "height": 192
        },
        "id": "0dWQkQbmbqjc",
        "outputId": "829361ae-be0a-440b-baee-4031ba831c83"
      },
      "source": [
        "from sklearn.metrics.pairwise import pairwise_distances\n",
        "\n",
        "user_similarity = 1 - pairwise_distances(ratings_diff, metric='cosine')\n",
        "print(user_similarity.shape)\n",
        "pd.DataFrame(user_similarity).round(2)"
      ],
      "execution_count": 22,
      "outputs": [
        {
          "output_type": "stream",
          "name": "stdout",
          "text": [
            "(4, 4)\n"
          ]
        },
        {
          "output_type": "execute_result",
          "data": {
            "text/html": [
              "\n",
              "  <div id=\"df-aec80898-bb25-4e8a-9413-5247e7e34205\">\n",
              "    <div class=\"colab-df-container\">\n",
              "      <div>\n",
              "<style scoped>\n",
              "    .dataframe tbody tr th:only-of-type {\n",
              "        vertical-align: middle;\n",
              "    }\n",
              "\n",
              "    .dataframe tbody tr th {\n",
              "        vertical-align: top;\n",
              "    }\n",
              "\n",
              "    .dataframe thead th {\n",
              "        text-align: right;\n",
              "    }\n",
              "</style>\n",
              "<table border=\"1\" class=\"dataframe\">\n",
              "  <thead>\n",
              "    <tr style=\"text-align: right;\">\n",
              "      <th></th>\n",
              "      <th>0</th>\n",
              "      <th>1</th>\n",
              "      <th>2</th>\n",
              "      <th>3</th>\n",
              "    </tr>\n",
              "  </thead>\n",
              "  <tbody>\n",
              "    <tr>\n",
              "      <th>0</th>\n",
              "      <td>1.00</td>\n",
              "      <td>1.00</td>\n",
              "      <td>0.87</td>\n",
              "      <td>-0.98</td>\n",
              "    </tr>\n",
              "    <tr>\n",
              "      <th>1</th>\n",
              "      <td>1.00</td>\n",
              "      <td>1.00</td>\n",
              "      <td>0.87</td>\n",
              "      <td>-0.98</td>\n",
              "    </tr>\n",
              "    <tr>\n",
              "      <th>2</th>\n",
              "      <td>0.87</td>\n",
              "      <td>0.87</td>\n",
              "      <td>1.00</td>\n",
              "      <td>-0.94</td>\n",
              "    </tr>\n",
              "    <tr>\n",
              "      <th>3</th>\n",
              "      <td>-0.98</td>\n",
              "      <td>-0.98</td>\n",
              "      <td>-0.94</td>\n",
              "      <td>1.00</td>\n",
              "    </tr>\n",
              "  </tbody>\n",
              "</table>\n",
              "</div>\n",
              "      <button class=\"colab-df-convert\" onclick=\"convertToInteractive('df-aec80898-bb25-4e8a-9413-5247e7e34205')\"\n",
              "              title=\"Convert this dataframe to an interactive table.\"\n",
              "              style=\"display:none;\">\n",
              "        \n",
              "  <svg xmlns=\"http://www.w3.org/2000/svg\" height=\"24px\"viewBox=\"0 0 24 24\"\n",
              "       width=\"24px\">\n",
              "    <path d=\"M0 0h24v24H0V0z\" fill=\"none\"/>\n",
              "    <path d=\"M18.56 5.44l.94 2.06.94-2.06 2.06-.94-2.06-.94-.94-2.06-.94 2.06-2.06.94zm-11 1L8.5 8.5l.94-2.06 2.06-.94-2.06-.94L8.5 2.5l-.94 2.06-2.06.94zm10 10l.94 2.06.94-2.06 2.06-.94-2.06-.94-.94-2.06-.94 2.06-2.06.94z\"/><path d=\"M17.41 7.96l-1.37-1.37c-.4-.4-.92-.59-1.43-.59-.52 0-1.04.2-1.43.59L10.3 9.45l-7.72 7.72c-.78.78-.78 2.05 0 2.83L4 21.41c.39.39.9.59 1.41.59.51 0 1.02-.2 1.41-.59l7.78-7.78 2.81-2.81c.8-.78.8-2.07 0-2.86zM5.41 20L4 18.59l7.72-7.72 1.47 1.35L5.41 20z\"/>\n",
              "  </svg>\n",
              "      </button>\n",
              "      \n",
              "  <style>\n",
              "    .colab-df-container {\n",
              "      display:flex;\n",
              "      flex-wrap:wrap;\n",
              "      gap: 12px;\n",
              "    }\n",
              "\n",
              "    .colab-df-convert {\n",
              "      background-color: #E8F0FE;\n",
              "      border: none;\n",
              "      border-radius: 50%;\n",
              "      cursor: pointer;\n",
              "      display: none;\n",
              "      fill: #1967D2;\n",
              "      height: 32px;\n",
              "      padding: 0 0 0 0;\n",
              "      width: 32px;\n",
              "    }\n",
              "\n",
              "    .colab-df-convert:hover {\n",
              "      background-color: #E2EBFA;\n",
              "      box-shadow: 0px 1px 2px rgba(60, 64, 67, 0.3), 0px 1px 3px 1px rgba(60, 64, 67, 0.15);\n",
              "      fill: #174EA6;\n",
              "    }\n",
              "\n",
              "    [theme=dark] .colab-df-convert {\n",
              "      background-color: #3B4455;\n",
              "      fill: #D2E3FC;\n",
              "    }\n",
              "\n",
              "    [theme=dark] .colab-df-convert:hover {\n",
              "      background-color: #434B5C;\n",
              "      box-shadow: 0px 1px 3px 1px rgba(0, 0, 0, 0.15);\n",
              "      filter: drop-shadow(0px 1px 2px rgba(0, 0, 0, 0.3));\n",
              "      fill: #FFFFFF;\n",
              "    }\n",
              "  </style>\n",
              "\n",
              "      <script>\n",
              "        const buttonEl =\n",
              "          document.querySelector('#df-aec80898-bb25-4e8a-9413-5247e7e34205 button.colab-df-convert');\n",
              "        buttonEl.style.display =\n",
              "          google.colab.kernel.accessAllowed ? 'block' : 'none';\n",
              "\n",
              "        async function convertToInteractive(key) {\n",
              "          const element = document.querySelector('#df-aec80898-bb25-4e8a-9413-5247e7e34205');\n",
              "          const dataTable =\n",
              "            await google.colab.kernel.invokeFunction('convertToInteractive',\n",
              "                                                     [key], {});\n",
              "          if (!dataTable) return;\n",
              "\n",
              "          const docLinkHtml = 'Like what you see? Visit the ' +\n",
              "            '<a target=\"_blank\" href=https://colab.research.google.com/notebooks/data_table.ipynb>data table notebook</a>'\n",
              "            + ' to learn more about interactive tables.';\n",
              "          element.innerHTML = '';\n",
              "          dataTable['output_type'] = 'display_data';\n",
              "          await google.colab.output.renderOutput(dataTable, element);\n",
              "          const docLink = document.createElement('div');\n",
              "          docLink.innerHTML = docLinkHtml;\n",
              "          element.appendChild(docLink);\n",
              "        }\n",
              "      </script>\n",
              "    </div>\n",
              "  </div>\n",
              "  "
            ],
            "text/plain": [
              "      0     1     2     3\n",
              "0  1.00  1.00  0.87 -0.98\n",
              "1  1.00  1.00  0.87 -0.98\n",
              "2  0.87  0.87  1.00 -0.94\n",
              "3 -0.98 -0.98 -0.94  1.00"
            ]
          },
          "metadata": {},
          "execution_count": 22
        }
      ]
    },
    {
      "cell_type": "code",
      "metadata": {
        "id": "72ZfQntKgBda",
        "colab": {
          "base_uri": "https://localhost:8080/",
          "height": 175
        },
        "outputId": "83b3afd3-8c73-487f-9320-f2e0ba5414a5"
      },
      "source": [
        "pd.DataFrame(user_similarity.dot(ratings_diff).round(2))"
      ],
      "execution_count": 23,
      "outputs": [
        {
          "output_type": "execute_result",
          "data": {
            "text/html": [
              "\n",
              "  <div id=\"df-a3338113-e257-41a0-8114-a3f91258c475\">\n",
              "    <div class=\"colab-df-container\">\n",
              "      <div>\n",
              "<style scoped>\n",
              "    .dataframe tbody tr th:only-of-type {\n",
              "        vertical-align: middle;\n",
              "    }\n",
              "\n",
              "    .dataframe tbody tr th {\n",
              "        vertical-align: top;\n",
              "    }\n",
              "\n",
              "    .dataframe thead th {\n",
              "        text-align: right;\n",
              "    }\n",
              "</style>\n",
              "<table border=\"1\" class=\"dataframe\">\n",
              "  <thead>\n",
              "    <tr style=\"text-align: right;\">\n",
              "      <th></th>\n",
              "      <th>0</th>\n",
              "      <th>1</th>\n",
              "      <th>2</th>\n",
              "    </tr>\n",
              "  </thead>\n",
              "  <tbody>\n",
              "    <tr>\n",
              "      <th>0</th>\n",
              "      <td>-5.83</td>\n",
              "      <td>-3.98</td>\n",
              "      <td>9.81</td>\n",
              "    </tr>\n",
              "    <tr>\n",
              "      <th>1</th>\n",
              "      <td>-5.83</td>\n",
              "      <td>-3.98</td>\n",
              "      <td>9.81</td>\n",
              "    </tr>\n",
              "    <tr>\n",
              "      <th>2</th>\n",
              "      <td>-5.49</td>\n",
              "      <td>-3.54</td>\n",
              "      <td>9.03</td>\n",
              "    </tr>\n",
              "    <tr>\n",
              "      <th>3</th>\n",
              "      <td>5.89</td>\n",
              "      <td>3.95</td>\n",
              "      <td>-9.84</td>\n",
              "    </tr>\n",
              "  </tbody>\n",
              "</table>\n",
              "</div>\n",
              "      <button class=\"colab-df-convert\" onclick=\"convertToInteractive('df-a3338113-e257-41a0-8114-a3f91258c475')\"\n",
              "              title=\"Convert this dataframe to an interactive table.\"\n",
              "              style=\"display:none;\">\n",
              "        \n",
              "  <svg xmlns=\"http://www.w3.org/2000/svg\" height=\"24px\"viewBox=\"0 0 24 24\"\n",
              "       width=\"24px\">\n",
              "    <path d=\"M0 0h24v24H0V0z\" fill=\"none\"/>\n",
              "    <path d=\"M18.56 5.44l.94 2.06.94-2.06 2.06-.94-2.06-.94-.94-2.06-.94 2.06-2.06.94zm-11 1L8.5 8.5l.94-2.06 2.06-.94-2.06-.94L8.5 2.5l-.94 2.06-2.06.94zm10 10l.94 2.06.94-2.06 2.06-.94-2.06-.94-.94-2.06-.94 2.06-2.06.94z\"/><path d=\"M17.41 7.96l-1.37-1.37c-.4-.4-.92-.59-1.43-.59-.52 0-1.04.2-1.43.59L10.3 9.45l-7.72 7.72c-.78.78-.78 2.05 0 2.83L4 21.41c.39.39.9.59 1.41.59.51 0 1.02-.2 1.41-.59l7.78-7.78 2.81-2.81c.8-.78.8-2.07 0-2.86zM5.41 20L4 18.59l7.72-7.72 1.47 1.35L5.41 20z\"/>\n",
              "  </svg>\n",
              "      </button>\n",
              "      \n",
              "  <style>\n",
              "    .colab-df-container {\n",
              "      display:flex;\n",
              "      flex-wrap:wrap;\n",
              "      gap: 12px;\n",
              "    }\n",
              "\n",
              "    .colab-df-convert {\n",
              "      background-color: #E8F0FE;\n",
              "      border: none;\n",
              "      border-radius: 50%;\n",
              "      cursor: pointer;\n",
              "      display: none;\n",
              "      fill: #1967D2;\n",
              "      height: 32px;\n",
              "      padding: 0 0 0 0;\n",
              "      width: 32px;\n",
              "    }\n",
              "\n",
              "    .colab-df-convert:hover {\n",
              "      background-color: #E2EBFA;\n",
              "      box-shadow: 0px 1px 2px rgba(60, 64, 67, 0.3), 0px 1px 3px 1px rgba(60, 64, 67, 0.15);\n",
              "      fill: #174EA6;\n",
              "    }\n",
              "\n",
              "    [theme=dark] .colab-df-convert {\n",
              "      background-color: #3B4455;\n",
              "      fill: #D2E3FC;\n",
              "    }\n",
              "\n",
              "    [theme=dark] .colab-df-convert:hover {\n",
              "      background-color: #434B5C;\n",
              "      box-shadow: 0px 1px 3px 1px rgba(0, 0, 0, 0.15);\n",
              "      filter: drop-shadow(0px 1px 2px rgba(0, 0, 0, 0.3));\n",
              "      fill: #FFFFFF;\n",
              "    }\n",
              "  </style>\n",
              "\n",
              "      <script>\n",
              "        const buttonEl =\n",
              "          document.querySelector('#df-a3338113-e257-41a0-8114-a3f91258c475 button.colab-df-convert');\n",
              "        buttonEl.style.display =\n",
              "          google.colab.kernel.accessAllowed ? 'block' : 'none';\n",
              "\n",
              "        async function convertToInteractive(key) {\n",
              "          const element = document.querySelector('#df-a3338113-e257-41a0-8114-a3f91258c475');\n",
              "          const dataTable =\n",
              "            await google.colab.kernel.invokeFunction('convertToInteractive',\n",
              "                                                     [key], {});\n",
              "          if (!dataTable) return;\n",
              "\n",
              "          const docLinkHtml = 'Like what you see? Visit the ' +\n",
              "            '<a target=\"_blank\" href=https://colab.research.google.com/notebooks/data_table.ipynb>data table notebook</a>'\n",
              "            + ' to learn more about interactive tables.';\n",
              "          element.innerHTML = '';\n",
              "          dataTable['output_type'] = 'display_data';\n",
              "          await google.colab.output.renderOutput(dataTable, element);\n",
              "          const docLink = document.createElement('div');\n",
              "          docLink.innerHTML = docLinkHtml;\n",
              "          element.appendChild(docLink);\n",
              "        }\n",
              "      </script>\n",
              "    </div>\n",
              "  </div>\n",
              "  "
            ],
            "text/plain": [
              "      0     1     2\n",
              "0 -5.83 -3.98  9.81\n",
              "1 -5.83 -3.98  9.81\n",
              "2 -5.49 -3.54  9.03\n",
              "3  5.89  3.95 -9.84"
            ]
          },
          "metadata": {},
          "execution_count": 23
        }
      ]
    },
    {
      "cell_type": "code",
      "metadata": {
        "colab": {
          "base_uri": "https://localhost:8080/"
        },
        "id": "RPm6AAtAQMzH",
        "outputId": "896f9004-1fb5-4dcb-cc54-6d333592de64"
      },
      "source": [
        "import numpy as np\n",
        "pred = mean_user_rating + user_similarity.dot(ratings_diff) / np.array([np.abs(user_similarity).sum(axis=1)]).T\n",
        "pred.round(2)"
      ],
      "execution_count": 24,
      "outputs": [
        {
          "output_type": "execute_result",
          "data": {
            "text/plain": [
              "array([[1.48, 1.97, 5.55],\n",
              "       [3.48, 3.97, 7.55],\n",
              "       [3.51, 4.04, 7.46],\n",
              "       [5.51, 5.01, 1.48]])"
            ]
          },
          "metadata": {},
          "execution_count": 24
        }
      ]
    },
    {
      "cell_type": "code",
      "source": [
        ""
      ],
      "metadata": {
        "id": "1xwecYIbCra3"
      },
      "execution_count": 24,
      "outputs": []
    },
    {
      "cell_type": "markdown",
      "metadata": {
        "id": "msy7GGQMGUQu"
      },
      "source": [
        "## Movie Recommender"
      ]
    },
    {
      "cell_type": "markdown",
      "metadata": {
        "id": "ndk5ueV8he8p"
      },
      "source": [
        "### Load data"
      ]
    },
    {
      "cell_type": "code",
      "metadata": {
        "id": "RMumjSuSiOKk",
        "colab": {
          "base_uri": "https://localhost:8080/"
        },
        "outputId": "9f702f65-ca82-4c7e-9446-687c545c552e"
      },
      "source": [
        "!wget 'http://files.grouplens.org/datasets/movielens/ml-100k.zip'\n",
        "!unzip -o ml-100k.zip"
      ],
      "execution_count": 25,
      "outputs": [
        {
          "output_type": "stream",
          "name": "stdout",
          "text": [
            "--2021-12-30 19:00:03--  http://files.grouplens.org/datasets/movielens/ml-100k.zip\n",
            "Resolving files.grouplens.org (files.grouplens.org)... 128.101.65.152\n",
            "Connecting to files.grouplens.org (files.grouplens.org)|128.101.65.152|:80... connected.\n",
            "HTTP request sent, awaiting response... 200 OK\n",
            "Length: 4924029 (4.7M) [application/zip]\n",
            "Saving to: ‘ml-100k.zip.1’\n",
            "\n",
            "ml-100k.zip.1       100%[===================>]   4.70M  3.45MB/s    in 1.4s    \n",
            "\n",
            "2021-12-30 19:00:05 (3.45 MB/s) - ‘ml-100k.zip.1’ saved [4924029/4924029]\n",
            "\n",
            "Archive:  ml-100k.zip\n",
            "  inflating: ml-100k/allbut.pl       \n",
            "  inflating: ml-100k/mku.sh          \n",
            "  inflating: ml-100k/README          \n",
            "  inflating: ml-100k/u.data          \n",
            "  inflating: ml-100k/u.genre         \n",
            "  inflating: ml-100k/u.info          \n",
            "  inflating: ml-100k/u.item          \n",
            "  inflating: ml-100k/u.occupation    \n",
            "  inflating: ml-100k/u.user          \n",
            "  inflating: ml-100k/u1.base         \n",
            "  inflating: ml-100k/u1.test         \n",
            "  inflating: ml-100k/u2.base         \n",
            "  inflating: ml-100k/u2.test         \n",
            "  inflating: ml-100k/u3.base         \n",
            "  inflating: ml-100k/u3.test         \n",
            "  inflating: ml-100k/u4.base         \n",
            "  inflating: ml-100k/u4.test         \n",
            "  inflating: ml-100k/u5.base         \n",
            "  inflating: ml-100k/u5.test         \n",
            "  inflating: ml-100k/ua.base         \n",
            "  inflating: ml-100k/ua.test         \n",
            "  inflating: ml-100k/ub.base         \n",
            "  inflating: ml-100k/ub.test         \n"
          ]
        }
      ]
    },
    {
      "cell_type": "code",
      "metadata": {
        "colab": {
          "base_uri": "https://localhost:8080/"
        },
        "id": "cDKl5n-yOlab",
        "outputId": "459da4f4-b657-4891-f0f3-8788d40e0d75"
      },
      "source": [
        "ratings_path='ml-100k/u.data'\n",
        "items_path='ml-100k/u.item'\n",
        "\n",
        "#Reading ratings file:\n",
        "r_cols = ['user_id', 'movie_id', 'rating', 'unix_timestamp']\n",
        "ratings = pd.read_csv(ratings_path, sep='\\t', names=r_cols,encoding='latin-1')\n",
        "\n",
        "#Reading items file:\n",
        "i_cols = ['movie id', 'movie title' ,'release date','video release date', 'IMDb URL', 'unknown', 'Action', 'Adventure',\n",
        "'Animation', 'Children\\'s', 'Comedy', 'Crime', 'Documentary', 'Drama', 'Fantasy', 'Film-Noir', 'Horror', 'Musical', 'Mystery', 'Romance', 'Sci-Fi', 'Thriller', 'War', 'Western']\n",
        "\n",
        "items = pd.read_csv(items_path, sep='|', names=i_cols,encoding='latin-1')\n",
        "print(ratings.shape)\n",
        "print(ratings.head())"
      ],
      "execution_count": 26,
      "outputs": [
        {
          "output_type": "stream",
          "name": "stdout",
          "text": [
            "(100000, 4)\n",
            "   user_id  movie_id  rating  unix_timestamp\n",
            "0      196       242       3       881250949\n",
            "1      186       302       3       891717742\n",
            "2       22       377       1       878887116\n",
            "3      244        51       2       880606923\n",
            "4      166       346       1       886397596\n"
          ]
        }
      ]
    },
    {
      "cell_type": "code",
      "metadata": {
        "id": "DxKsWP62reRI"
      },
      "source": [
        "def keep_top_k(arr, k): \n",
        "    smallest = heapq.nlargest(k, arr)[-1] \n",
        "    arr[arr < smallest] = 0 # replace anything lower than the cut off with 0\n",
        "    return arr\n",
        "\n",
        "# For debug purposes - appends rating r for items on behalf of a debug user\n",
        "def new_user_ratings(items, r, new_user_id):\n",
        "  to_append=pd.DataFrame(items, columns=['movie_id'])\n",
        "  to_append[['user_id','rating','unix_timestamp']] = new_user_id,r,0\n",
        "  return to_append"
      ],
      "execution_count": 27,
      "outputs": []
    },
    {
      "cell_type": "code",
      "metadata": {
        "colab": {
          "base_uri": "https://localhost:8080/"
        },
        "id": "rI7IMV9V0A_E",
        "outputId": "403d42b2-ff64-4694-9794-90071dcb707b"
      },
      "source": [
        "# ADD debug user:\n",
        "def addFakeRatings(ratings):\n",
        "  scifi = [7,38,39,50,62,82,84,89,96,101,109,121,135,141,145,152,164,171,172,175]\n",
        "  drama = [14,20,36,125,131,133,197,213,237,246,253,268,275,276,278,280,283,286,306,311,371,421,462,483,531,549,553,582,594,643,662,704,714,716,724]\n",
        "\n",
        "  new_user_id = ratings.user_id.max()+1\n",
        "  print(new_user_id)\n",
        "  ratings = ratings.append(new_user_ratings(scifi,1,new_user_id),ignore_index=True)\n",
        "  ratings = ratings.append(new_user_ratings(drama,5,new_user_id),ignore_index=True)\n",
        "  ratings[ratings.user_id==new_user_id].shape\n",
        "\n",
        "addFakeRatings(ratings)"
      ],
      "execution_count": 28,
      "outputs": [
        {
          "output_type": "stream",
          "name": "stdout",
          "text": [
            "944\n"
          ]
        }
      ]
    },
    {
      "cell_type": "code",
      "metadata": {
        "id": "QgvB_PsbwdKF",
        "outputId": "5a5183d0-a674-4753-817c-7746c705526a",
        "colab": {
          "base_uri": "https://localhost:8080/"
        }
      },
      "source": [
        "def get_top_rated(data_matrix_row, items, k=20):\n",
        "  srt_idx = np.argsort(-data_matrix_row)\n",
        "  #print(~np.isnan(data_matrix_row[srt_idx]))\n",
        "  srt_idx_not_nan = srt_idx[~np.isnan(data_matrix_row[srt_idx])]\n",
        "  return items['movie title'].iloc[srt_idx_not_nan][:k]  \n",
        "\n",
        "#get_top_rated(data_matrix[50],items, 20)\n",
        "\n",
        "\n",
        "def idx2item(items_path):\n",
        "  idx_to_item = {}\n",
        "  with open(items_path, 'r', encoding = \"ISO-8859-1\") as f:\n",
        "      for line in f.readlines():\n",
        "          info = line.split('|')\n",
        "          idx_to_item[info[1].split(' (')[0]] = int(info[0]) - 1\n",
        "  return idx_to_item\n",
        "\n",
        "idx_to_movie = idx2item(items_path)\n",
        "idx_to_movie['Four Rooms']"
      ],
      "execution_count": 29,
      "outputs": [
        {
          "output_type": "execute_result",
          "data": {
            "text/plain": [
              "2"
            ]
          },
          "metadata": {},
          "execution_count": 29
        }
      ]
    },
    {
      "cell_type": "markdown",
      "metadata": {
        "id": "KagqacfmjYV6"
      },
      "source": [
        "### Create normalized rating matrix"
      ]
    },
    {
      "cell_type": "code",
      "metadata": {
        "id": "RV_6sCYzjXrk"
      },
      "source": [
        "#calculate the number of unique users and movies.\n",
        "n_users = ratings.user_id.unique().shape[0]\n",
        "n_items = ratings.movie_id.unique().shape[0]\n",
        "\n",
        "#create ranking table - that table is sparse\n",
        "data_matrix = np.empty((n_users, n_items))\n",
        "data_matrix[:] = np.nan\n",
        "for line in ratings.itertuples():\n",
        "    user = line[1]-1\n",
        "    movie = line[2]-1\n",
        "    rating = line[3]\n",
        "    data_matrix[user, movie] = rating\n",
        "\n",
        "#calc mean\n",
        "mean_user_rating = np.nanmean(data_matrix, axis=1).reshape(-1, 1)\n",
        "\n",
        "ratings_diff = (data_matrix - mean_user_rating)\n",
        "#replace nan -> 0\n",
        "ratings_diff[np.isnan(ratings_diff)]=0"
      ],
      "execution_count": 30,
      "outputs": []
    },
    {
      "cell_type": "markdown",
      "metadata": {
        "id": "euxlfbgRkhsx"
      },
      "source": [
        "### Create user X user similarity matrix"
      ]
    },
    {
      "cell_type": "code",
      "metadata": {
        "colab": {
          "base_uri": "https://localhost:8080/"
        },
        "id": "0fmUaqHFk2qa",
        "outputId": "6a56b292-211c-4658-9170-f25edf711bae"
      },
      "source": [
        "#calculate user x user similarity matrix\n",
        "user_similarity = 1-pairwise_distances(ratings_diff, metric='cosine')\n",
        "print(user_similarity.shape)\n",
        "\n",
        "# For each user (i.e., for each row) keep only k most similar users, set the rest to 0. \n",
        "# Note that the user has the highest similarity to themselves.\n",
        "k=10\n",
        "user_similarity = np.array([keep_top_k(np.array(arr),k) for arr  in user_similarity])\n",
        "print(user_similarity.shape)"
      ],
      "execution_count": 31,
      "outputs": [
        {
          "output_type": "stream",
          "name": "stdout",
          "text": [
            "(943, 943)\n",
            "(943, 943)\n"
          ]
        }
      ]
    },
    {
      "cell_type": "markdown",
      "metadata": {
        "id": "_407jLckk7n3"
      },
      "source": [
        "### Generate predicted ratings matrix"
      ]
    },
    {
      "cell_type": "code",
      "metadata": {
        "id": "nH7HlOdalImh"
      },
      "source": [
        "# since n-k users have similarity=0, for each user only k most similar users contribute to the predicted ratings\n",
        "pred = mean_user_rating + user_similarity.dot(ratings_diff) / np.array([np.abs(user_similarity).sum(axis=1)]).T\n",
        "#pred.round(2)"
      ],
      "execution_count": 32,
      "outputs": []
    },
    {
      "cell_type": "markdown",
      "metadata": {
        "id": "_qc2M-aXlKlh"
      },
      "source": [
        "### Recommend a user top K unrated movies"
      ]
    },
    {
      "cell_type": "code",
      "metadata": {
        "id": "LgPFetL6bXFS"
      },
      "source": [
        "# Function that takes in movie title as input and outputs most similar movies\n",
        "def get_recommendations(predicted_ratings_row, data_matrix_row, items, k=5):\n",
        "\n",
        "    predicted_ratings_unrated = predicted_ratings_row[np.isnan(data_matrix_row)]\n",
        "    #print(predicted_ratings_unrated)\n",
        "\n",
        "    idx = np.argsort(-predicted_ratings_unrated)\n",
        "    #print (idx)\n",
        "    sim_scores = idx[0:k]\n",
        "    #print(sim_scores)\n",
        "\n",
        "    # Return top k movies\n",
        "    return items['movie title'].iloc[sim_scores]"
      ],
      "execution_count": 33,
      "outputs": []
    },
    {
      "cell_type": "code",
      "metadata": {
        "id": "ZY0tv7q6864Q"
      },
      "source": [
        "new_user_id = 12\n",
        "user = new_user_id-1\n",
        "predicted_ratings_row = pred[user]\n",
        "data_matrix_row=data_matrix[user]\n",
        "\n",
        "print(\"Top rated movies by test user:\")\n",
        "print(get_top_rated(data_matrix_row,items))\n",
        "\n",
        "print('****** test user - user_prediction ******')\n",
        "print(get_recommendations(predicted_ratings_row, data_matrix_row, items,k=10))"
      ],
      "execution_count": null,
      "outputs": []
    },
    {
      "cell_type": "markdown",
      "metadata": {
        "id": "1s8dFz9eG0f3"
      },
      "source": [
        "# **Collaborative Filtering - Item based**  \n"
      ]
    },
    {
      "cell_type": "markdown",
      "metadata": {
        "id": "cNdJPelYG9sC"
      },
      "source": [
        "## Simple example\n",
        " \n",
        "*   4 users, 3 items.\n",
        "*   Items $m_0$  and $m_2$ share the same ratings\n"
      ]
    },
    {
      "cell_type": "code",
      "source": [
        ""
      ],
      "metadata": {
        "id": "ZgHl3nOOG1rM"
      },
      "execution_count": 34,
      "outputs": []
    },
    {
      "cell_type": "markdown",
      "metadata": {
        "id": "RB_a_JZe9LoQ"
      },
      "source": [
        ""
      ]
    },
    {
      "cell_type": "code",
      "source": [
        ""
      ],
      "metadata": {
        "id": "1oNBO1_wGzwJ"
      },
      "execution_count": 34,
      "outputs": []
    },
    {
      "cell_type": "code",
      "metadata": {
        "colab": {
          "base_uri": "https://localhost:8080/",
          "height": 175
        },
        "id": "ZWuTbBINHza3",
        "outputId": "3d00bac6-ebd7-4976-b06e-695bc8a36a1d"
      },
      "source": [
        "\n",
        "#Note that users 0 and 3 have the same ratings\n",
        "ratings_pd = pd.DataFrame({'m0':[1,4,3,6],'m1':[5,5,1,3],'m2':[2,np.nan,4,6]}, index=['u0','u1','u2','u3'])\n",
        "ratings = ratings_pd.to_numpy()\n",
        "ratings_pd"
      ],
      "execution_count": 35,
      "outputs": [
        {
          "output_type": "execute_result",
          "data": {
            "text/html": [
              "\n",
              "  <div id=\"df-36bd79b6-0c81-4b19-abad-5405c8665929\">\n",
              "    <div class=\"colab-df-container\">\n",
              "      <div>\n",
              "<style scoped>\n",
              "    .dataframe tbody tr th:only-of-type {\n",
              "        vertical-align: middle;\n",
              "    }\n",
              "\n",
              "    .dataframe tbody tr th {\n",
              "        vertical-align: top;\n",
              "    }\n",
              "\n",
              "    .dataframe thead th {\n",
              "        text-align: right;\n",
              "    }\n",
              "</style>\n",
              "<table border=\"1\" class=\"dataframe\">\n",
              "  <thead>\n",
              "    <tr style=\"text-align: right;\">\n",
              "      <th></th>\n",
              "      <th>m0</th>\n",
              "      <th>m1</th>\n",
              "      <th>m2</th>\n",
              "    </tr>\n",
              "  </thead>\n",
              "  <tbody>\n",
              "    <tr>\n",
              "      <th>u0</th>\n",
              "      <td>1</td>\n",
              "      <td>5</td>\n",
              "      <td>2.0</td>\n",
              "    </tr>\n",
              "    <tr>\n",
              "      <th>u1</th>\n",
              "      <td>4</td>\n",
              "      <td>5</td>\n",
              "      <td>NaN</td>\n",
              "    </tr>\n",
              "    <tr>\n",
              "      <th>u2</th>\n",
              "      <td>3</td>\n",
              "      <td>1</td>\n",
              "      <td>4.0</td>\n",
              "    </tr>\n",
              "    <tr>\n",
              "      <th>u3</th>\n",
              "      <td>6</td>\n",
              "      <td>3</td>\n",
              "      <td>6.0</td>\n",
              "    </tr>\n",
              "  </tbody>\n",
              "</table>\n",
              "</div>\n",
              "      <button class=\"colab-df-convert\" onclick=\"convertToInteractive('df-36bd79b6-0c81-4b19-abad-5405c8665929')\"\n",
              "              title=\"Convert this dataframe to an interactive table.\"\n",
              "              style=\"display:none;\">\n",
              "        \n",
              "  <svg xmlns=\"http://www.w3.org/2000/svg\" height=\"24px\"viewBox=\"0 0 24 24\"\n",
              "       width=\"24px\">\n",
              "    <path d=\"M0 0h24v24H0V0z\" fill=\"none\"/>\n",
              "    <path d=\"M18.56 5.44l.94 2.06.94-2.06 2.06-.94-2.06-.94-.94-2.06-.94 2.06-2.06.94zm-11 1L8.5 8.5l.94-2.06 2.06-.94-2.06-.94L8.5 2.5l-.94 2.06-2.06.94zm10 10l.94 2.06.94-2.06 2.06-.94-2.06-.94-.94-2.06-.94 2.06-2.06.94z\"/><path d=\"M17.41 7.96l-1.37-1.37c-.4-.4-.92-.59-1.43-.59-.52 0-1.04.2-1.43.59L10.3 9.45l-7.72 7.72c-.78.78-.78 2.05 0 2.83L4 21.41c.39.39.9.59 1.41.59.51 0 1.02-.2 1.41-.59l7.78-7.78 2.81-2.81c.8-.78.8-2.07 0-2.86zM5.41 20L4 18.59l7.72-7.72 1.47 1.35L5.41 20z\"/>\n",
              "  </svg>\n",
              "      </button>\n",
              "      \n",
              "  <style>\n",
              "    .colab-df-container {\n",
              "      display:flex;\n",
              "      flex-wrap:wrap;\n",
              "      gap: 12px;\n",
              "    }\n",
              "\n",
              "    .colab-df-convert {\n",
              "      background-color: #E8F0FE;\n",
              "      border: none;\n",
              "      border-radius: 50%;\n",
              "      cursor: pointer;\n",
              "      display: none;\n",
              "      fill: #1967D2;\n",
              "      height: 32px;\n",
              "      padding: 0 0 0 0;\n",
              "      width: 32px;\n",
              "    }\n",
              "\n",
              "    .colab-df-convert:hover {\n",
              "      background-color: #E2EBFA;\n",
              "      box-shadow: 0px 1px 2px rgba(60, 64, 67, 0.3), 0px 1px 3px 1px rgba(60, 64, 67, 0.15);\n",
              "      fill: #174EA6;\n",
              "    }\n",
              "\n",
              "    [theme=dark] .colab-df-convert {\n",
              "      background-color: #3B4455;\n",
              "      fill: #D2E3FC;\n",
              "    }\n",
              "\n",
              "    [theme=dark] .colab-df-convert:hover {\n",
              "      background-color: #434B5C;\n",
              "      box-shadow: 0px 1px 3px 1px rgba(0, 0, 0, 0.15);\n",
              "      filter: drop-shadow(0px 1px 2px rgba(0, 0, 0, 0.3));\n",
              "      fill: #FFFFFF;\n",
              "    }\n",
              "  </style>\n",
              "\n",
              "      <script>\n",
              "        const buttonEl =\n",
              "          document.querySelector('#df-36bd79b6-0c81-4b19-abad-5405c8665929 button.colab-df-convert');\n",
              "        buttonEl.style.display =\n",
              "          google.colab.kernel.accessAllowed ? 'block' : 'none';\n",
              "\n",
              "        async function convertToInteractive(key) {\n",
              "          const element = document.querySelector('#df-36bd79b6-0c81-4b19-abad-5405c8665929');\n",
              "          const dataTable =\n",
              "            await google.colab.kernel.invokeFunction('convertToInteractive',\n",
              "                                                     [key], {});\n",
              "          if (!dataTable) return;\n",
              "\n",
              "          const docLinkHtml = 'Like what you see? Visit the ' +\n",
              "            '<a target=\"_blank\" href=https://colab.research.google.com/notebooks/data_table.ipynb>data table notebook</a>'\n",
              "            + ' to learn more about interactive tables.';\n",
              "          element.innerHTML = '';\n",
              "          dataTable['output_type'] = 'display_data';\n",
              "          await google.colab.output.renderOutput(dataTable, element);\n",
              "          const docLink = document.createElement('div');\n",
              "          docLink.innerHTML = docLinkHtml;\n",
              "          element.appendChild(docLink);\n",
              "        }\n",
              "      </script>\n",
              "    </div>\n",
              "  </div>\n",
              "  "
            ],
            "text/plain": [
              "    m0  m1   m2\n",
              "u0   1   5  2.0\n",
              "u1   4   5  NaN\n",
              "u2   3   1  4.0\n",
              "u3   6   3  6.0"
            ]
          },
          "metadata": {},
          "execution_count": 35
        }
      ]
    },
    {
      "cell_type": "code",
      "metadata": {
        "colab": {
          "base_uri": "https://localhost:8080/"
        },
        "id": "fmpyJ2uY70mK",
        "outputId": "c99b3f0c-52ae-4521-c832-92d825bae849"
      },
      "source": [
        "mean_user_rating = ratings_pd.mean(axis=1).to_numpy().reshape(-1, 1)\n",
        "mean_user_rating.round(2)"
      ],
      "execution_count": 36,
      "outputs": [
        {
          "output_type": "execute_result",
          "data": {
            "text/plain": [
              "array([[2.67],\n",
              "       [4.5 ],\n",
              "       [2.67],\n",
              "       [5.  ]])"
            ]
          },
          "metadata": {},
          "execution_count": 36
        }
      ]
    },
    {
      "cell_type": "code",
      "metadata": {
        "id": "vX76OI6_yY8T"
      },
      "source": [
        "ratings_diff = (ratings - mean_user_rating)\n",
        "ratings_diff[np.isnan(ratings_diff)]=0\n",
        "ratings_diff.round(2)\n",
        "\n",
        "raitingItem = ratings_diff\n",
        "raitingItem[np.isnan(raitingItem)]=0\n",
        "\n",
        "#raitingItem\n"
      ],
      "execution_count": 37,
      "outputs": []
    },
    {
      "cell_type": "code",
      "metadata": {
        "colab": {
          "base_uri": "https://localhost:8080/",
          "height": 160
        },
        "id": "isGS24tD1JSu",
        "outputId": "f099e187-2fd4-4c33-9089-a8fa83819e53"
      },
      "source": [
        "from sklearn.metrics.pairwise import pairwise_distances\n",
        "# I made the fix here:\n",
        "item_similarity = 1-pairwise_distances(raitingItem.T, metric='cosine')\n",
        "print(item_similarity.shape)\n",
        "pd.DataFrame(item_similarity).round(2)"
      ],
      "execution_count": 38,
      "outputs": [
        {
          "output_type": "stream",
          "name": "stdout",
          "text": [
            "(3, 3)\n"
          ]
        },
        {
          "output_type": "execute_result",
          "data": {
            "text/html": [
              "\n",
              "  <div id=\"df-9fdd7ce8-fb21-422f-9ab6-77ce6f28d388\">\n",
              "    <div class=\"colab-df-container\">\n",
              "      <div>\n",
              "<style scoped>\n",
              "    .dataframe tbody tr th:only-of-type {\n",
              "        vertical-align: middle;\n",
              "    }\n",
              "\n",
              "    .dataframe tbody tr th {\n",
              "        vertical-align: top;\n",
              "    }\n",
              "\n",
              "    .dataframe thead th {\n",
              "        text-align: right;\n",
              "    }\n",
              "</style>\n",
              "<table border=\"1\" class=\"dataframe\">\n",
              "  <thead>\n",
              "    <tr style=\"text-align: right;\">\n",
              "      <th></th>\n",
              "      <th>0</th>\n",
              "      <th>1</th>\n",
              "      <th>2</th>\n",
              "    </tr>\n",
              "  </thead>\n",
              "  <tbody>\n",
              "    <tr>\n",
              "      <th>0</th>\n",
              "      <td>1.00</td>\n",
              "      <td>-0.93</td>\n",
              "      <td>0.70</td>\n",
              "    </tr>\n",
              "    <tr>\n",
              "      <th>1</th>\n",
              "      <td>-0.93</td>\n",
              "      <td>1.00</td>\n",
              "      <td>-0.91</td>\n",
              "    </tr>\n",
              "    <tr>\n",
              "      <th>2</th>\n",
              "      <td>0.70</td>\n",
              "      <td>-0.91</td>\n",
              "      <td>1.00</td>\n",
              "    </tr>\n",
              "  </tbody>\n",
              "</table>\n",
              "</div>\n",
              "      <button class=\"colab-df-convert\" onclick=\"convertToInteractive('df-9fdd7ce8-fb21-422f-9ab6-77ce6f28d388')\"\n",
              "              title=\"Convert this dataframe to an interactive table.\"\n",
              "              style=\"display:none;\">\n",
              "        \n",
              "  <svg xmlns=\"http://www.w3.org/2000/svg\" height=\"24px\"viewBox=\"0 0 24 24\"\n",
              "       width=\"24px\">\n",
              "    <path d=\"M0 0h24v24H0V0z\" fill=\"none\"/>\n",
              "    <path d=\"M18.56 5.44l.94 2.06.94-2.06 2.06-.94-2.06-.94-.94-2.06-.94 2.06-2.06.94zm-11 1L8.5 8.5l.94-2.06 2.06-.94-2.06-.94L8.5 2.5l-.94 2.06-2.06.94zm10 10l.94 2.06.94-2.06 2.06-.94-2.06-.94-.94-2.06-.94 2.06-2.06.94z\"/><path d=\"M17.41 7.96l-1.37-1.37c-.4-.4-.92-.59-1.43-.59-.52 0-1.04.2-1.43.59L10.3 9.45l-7.72 7.72c-.78.78-.78 2.05 0 2.83L4 21.41c.39.39.9.59 1.41.59.51 0 1.02-.2 1.41-.59l7.78-7.78 2.81-2.81c.8-.78.8-2.07 0-2.86zM5.41 20L4 18.59l7.72-7.72 1.47 1.35L5.41 20z\"/>\n",
              "  </svg>\n",
              "      </button>\n",
              "      \n",
              "  <style>\n",
              "    .colab-df-container {\n",
              "      display:flex;\n",
              "      flex-wrap:wrap;\n",
              "      gap: 12px;\n",
              "    }\n",
              "\n",
              "    .colab-df-convert {\n",
              "      background-color: #E8F0FE;\n",
              "      border: none;\n",
              "      border-radius: 50%;\n",
              "      cursor: pointer;\n",
              "      display: none;\n",
              "      fill: #1967D2;\n",
              "      height: 32px;\n",
              "      padding: 0 0 0 0;\n",
              "      width: 32px;\n",
              "    }\n",
              "\n",
              "    .colab-df-convert:hover {\n",
              "      background-color: #E2EBFA;\n",
              "      box-shadow: 0px 1px 2px rgba(60, 64, 67, 0.3), 0px 1px 3px 1px rgba(60, 64, 67, 0.15);\n",
              "      fill: #174EA6;\n",
              "    }\n",
              "\n",
              "    [theme=dark] .colab-df-convert {\n",
              "      background-color: #3B4455;\n",
              "      fill: #D2E3FC;\n",
              "    }\n",
              "\n",
              "    [theme=dark] .colab-df-convert:hover {\n",
              "      background-color: #434B5C;\n",
              "      box-shadow: 0px 1px 3px 1px rgba(0, 0, 0, 0.15);\n",
              "      filter: drop-shadow(0px 1px 2px rgba(0, 0, 0, 0.3));\n",
              "      fill: #FFFFFF;\n",
              "    }\n",
              "  </style>\n",
              "\n",
              "      <script>\n",
              "        const buttonEl =\n",
              "          document.querySelector('#df-9fdd7ce8-fb21-422f-9ab6-77ce6f28d388 button.colab-df-convert');\n",
              "        buttonEl.style.display =\n",
              "          google.colab.kernel.accessAllowed ? 'block' : 'none';\n",
              "\n",
              "        async function convertToInteractive(key) {\n",
              "          const element = document.querySelector('#df-9fdd7ce8-fb21-422f-9ab6-77ce6f28d388');\n",
              "          const dataTable =\n",
              "            await google.colab.kernel.invokeFunction('convertToInteractive',\n",
              "                                                     [key], {});\n",
              "          if (!dataTable) return;\n",
              "\n",
              "          const docLinkHtml = 'Like what you see? Visit the ' +\n",
              "            '<a target=\"_blank\" href=https://colab.research.google.com/notebooks/data_table.ipynb>data table notebook</a>'\n",
              "            + ' to learn more about interactive tables.';\n",
              "          element.innerHTML = '';\n",
              "          dataTable['output_type'] = 'display_data';\n",
              "          await google.colab.output.renderOutput(dataTable, element);\n",
              "          const docLink = document.createElement('div');\n",
              "          docLink.innerHTML = docLinkHtml;\n",
              "          element.appendChild(docLink);\n",
              "        }\n",
              "      </script>\n",
              "    </div>\n",
              "  </div>\n",
              "  "
            ],
            "text/plain": [
              "      0     1     2\n",
              "0  1.00 -0.93  0.70\n",
              "1 -0.93  1.00 -0.91\n",
              "2  0.70 -0.91  1.00"
            ]
          },
          "metadata": {},
          "execution_count": 38
        }
      ]
    },
    {
      "cell_type": "code",
      "metadata": {
        "colab": {
          "base_uri": "https://localhost:8080/"
        },
        "id": "sn5uSs9t3mWg",
        "outputId": "fee998eb-27ad-4c35-a0e9-ee174bce288c"
      },
      "source": [
        "pred = mean_user_rating + raitingItem.dot(item_similarity) / np.array([np.abs(item_similarity).sum(axis=1)])\n",
        "pred.round(2)"
      ],
      "execution_count": 39,
      "outputs": [
        {
          "output_type": "execute_result",
          "data": {
            "text/plain": [
              "array([[1.03, 4.25, 1.15],\n",
              "       [4.13, 4.84, 4.19],\n",
              "       [3.74, 1.54, 3.85],\n",
              "       [6.35, 3.65, 6.35]])"
            ]
          },
          "metadata": {},
          "execution_count": 39
        }
      ]
    },
    {
      "cell_type": "markdown",
      "metadata": {
        "id": "8wI60wDr9Pwv"
      },
      "source": [
        "## Movie Recommender"
      ]
    },
    {
      "cell_type": "markdown",
      "metadata": {
        "id": "ympnVJGn-hZA"
      },
      "source": [
        "### Load data"
      ]
    },
    {
      "cell_type": "code",
      "metadata": {
        "colab": {
          "base_uri": "https://localhost:8080/"
        },
        "id": "b8OAX-Bs-jFv",
        "outputId": "ff706173-a031-4b58-b850-b519cc5932df"
      },
      "source": [
        "!wget 'http://files.grouplens.org/datasets/movielens/ml-100k.zip'\n",
        "!unzip -o ml-100k.zip"
      ],
      "execution_count": 40,
      "outputs": [
        {
          "output_type": "stream",
          "name": "stdout",
          "text": [
            "--2021-12-30 19:00:06--  http://files.grouplens.org/datasets/movielens/ml-100k.zip\n",
            "Resolving files.grouplens.org (files.grouplens.org)... 128.101.65.152\n",
            "Connecting to files.grouplens.org (files.grouplens.org)|128.101.65.152|:80... connected.\n",
            "HTTP request sent, awaiting response... 200 OK\n",
            "Length: 4924029 (4.7M) [application/zip]\n",
            "Saving to: ‘ml-100k.zip.2’\n",
            "\n",
            "ml-100k.zip.2       100%[===================>]   4.70M  3.46MB/s    in 1.4s    \n",
            "\n",
            "2021-12-30 19:00:08 (3.46 MB/s) - ‘ml-100k.zip.2’ saved [4924029/4924029]\n",
            "\n",
            "Archive:  ml-100k.zip\n",
            "  inflating: ml-100k/allbut.pl       \n",
            "  inflating: ml-100k/mku.sh          \n",
            "  inflating: ml-100k/README          \n",
            "  inflating: ml-100k/u.data          \n",
            "  inflating: ml-100k/u.genre         \n",
            "  inflating: ml-100k/u.info          \n",
            "  inflating: ml-100k/u.item          \n",
            "  inflating: ml-100k/u.occupation    \n",
            "  inflating: ml-100k/u.user          \n",
            "  inflating: ml-100k/u1.base         \n",
            "  inflating: ml-100k/u1.test         \n",
            "  inflating: ml-100k/u2.base         \n",
            "  inflating: ml-100k/u2.test         \n",
            "  inflating: ml-100k/u3.base         \n",
            "  inflating: ml-100k/u3.test         \n",
            "  inflating: ml-100k/u4.base         \n",
            "  inflating: ml-100k/u4.test         \n",
            "  inflating: ml-100k/u5.base         \n",
            "  inflating: ml-100k/u5.test         \n",
            "  inflating: ml-100k/ua.base         \n",
            "  inflating: ml-100k/ua.test         \n",
            "  inflating: ml-100k/ub.base         \n",
            "  inflating: ml-100k/ub.test         \n"
          ]
        }
      ]
    },
    {
      "cell_type": "code",
      "metadata": {
        "colab": {
          "base_uri": "https://localhost:8080/"
        },
        "id": "Ecuf6ttgBRb-",
        "outputId": "232ae786-b763-4a2c-c49d-1cad6c769273"
      },
      "source": [
        "ratings_path='ml-100k/u.data'\n",
        "items_path='ml-100k/u.item'\n",
        "\n",
        "#Reading ratings file:\n",
        "r_cols = ['user_id', 'movie_id', 'rating', 'unix_timestamp']\n",
        "ratings = pd.read_csv(ratings_path, sep='\\t', names=r_cols,encoding='latin-1')\n",
        "\n",
        "#Reading items file:\n",
        "i_cols = ['movie id', 'movie title' ,'release date','video release date', 'IMDb URL', 'unknown', 'Action', 'Adventure',\n",
        "'Animation', 'Children\\'s', 'Comedy', 'Crime', 'Documentary', 'Drama', 'Fantasy', 'Film-Noir', 'Horror', 'Musical', 'Mystery', 'Romance', 'Sci-Fi', 'Thriller', 'War', 'Western']\n",
        "\n",
        "items = pd.read_csv(items_path, sep='|', names=i_cols,encoding='latin-1')\n",
        "print(ratings.shape)\n",
        "print(ratings.head())\n",
        "\n",
        "#calculate the number of unique users and movies.\n",
        "n_users = ratings.user_id.unique().shape[0]\n",
        "n_items = ratings.movie_id.unique().shape[0]"
      ],
      "execution_count": 41,
      "outputs": [
        {
          "output_type": "stream",
          "name": "stdout",
          "text": [
            "(100000, 4)\n",
            "   user_id  movie_id  rating  unix_timestamp\n",
            "0      196       242       3       881250949\n",
            "1      186       302       3       891717742\n",
            "2       22       377       1       878887116\n",
            "3      244        51       2       880606923\n",
            "4      166       346       1       886397596\n"
          ]
        }
      ]
    },
    {
      "cell_type": "code",
      "metadata": {
        "id": "IROaRWiVBZcp"
      },
      "source": [
        "def keep_top_k(arr, k): \n",
        "    smallest = heapq.nlargest(k, arr)[-1] \n",
        "    arr[arr < smallest] = 0 # replace anything lower than the cut off with 0\n",
        "    return arr\n",
        "\n",
        "# For debug purposes - appends rating r for items on behalf of a debug user\n",
        "def new_user_ratings(items, r, new_user_id):\n",
        "  to_append=pd.DataFrame(items, columns=['movie_id'])\n",
        "  to_append[['user_id','rating','unix_timestamp']] = new_user_id,r,0\n",
        "  return to_append"
      ],
      "execution_count": 42,
      "outputs": []
    },
    {
      "cell_type": "code",
      "metadata": {
        "colab": {
          "base_uri": "https://localhost:8080/"
        },
        "id": "LwXiMW2DDI4Z",
        "outputId": "75a7c067-e3b6-4b6c-b020-380cd4f84c5c"
      },
      "source": [
        "# ADD debug item:\n",
        "\n",
        "scifi = [7,38,39,50,62,82,84,89,96,101,109,121,135,141,145,152,164,171,172,175]\n",
        "drama = [14,20,36,125,131,133,197,213,237,246,253,268,275,276,278,280,283,286,306,311,371,421,462,483,531,549,553,582,594,643,662,704,714,716,724]\n",
        "\n",
        "new_user_id = ratings.user_id.max()+1\n",
        "print(new_user_id)\n",
        "for i in range(n_users):\n",
        "  ratings = ratings.append(new_user_ratings(scifi,1,i),ignore_index=True)\n",
        "  ratings = ratings.append(new_user_ratings(drama,5,i),ignore_index=True)\n",
        "ratings[ratings.user_id==new_user_id].shape\n"
      ],
      "execution_count": 43,
      "outputs": [
        {
          "output_type": "stream",
          "name": "stdout",
          "text": [
            "944\n"
          ]
        },
        {
          "output_type": "execute_result",
          "data": {
            "text/plain": [
              "(0, 4)"
            ]
          },
          "metadata": {},
          "execution_count": 43
        }
      ]
    },
    {
      "cell_type": "code",
      "metadata": {
        "id": "hbnUPb1WDNLN"
      },
      "source": [
        "def get_top_rated(data_matrix_row, items, k=20):\n",
        "  srt_idx = np.argsort(-data_matrix_row)\n",
        "  #print(~np.isnan(data_matrix_row[srt_idx]))\n",
        "  srt_idx_not_nan = srt_idx[~np.isnan(data_matrix_row[srt_idx])]\n",
        "  return items['movie title'].iloc[srt_idx_not_nan][:k]  \n",
        "get_top_rated(data_matrix[50],items, 20)\n",
        "\n",
        "\n",
        "def idx2item(items_path):\n",
        "  idx_to_item = {}\n",
        "  with open(items_path, 'r', encoding = \"ISO-8859-1\") as f:\n",
        "      for line in f.readlines():\n",
        "          info = line.split('|')\n",
        "          idx_to_item[info[1].split(' (')[0]] = int(info[0]) - 1\n",
        "  return idx_to_item\n",
        "\n",
        "idx_to_movie = idx2item(items_path)\n",
        "#idx_to_movie['Four Rooms']"
      ],
      "execution_count": 44,
      "outputs": []
    },
    {
      "cell_type": "markdown",
      "metadata": {
        "id": "nwUo1eKp-paQ"
      },
      "source": [
        "### Create normalized rating matrix"
      ]
    },
    {
      "cell_type": "code",
      "metadata": {
        "id": "w-W5FLaA-uaP"
      },
      "source": [
        "\n",
        "\n",
        "#create ranking table - that table is sparse\n",
        "data_matrix = np.empty((n_users, n_items))\n",
        "data_matrix[:] = np.nan\n",
        "for line in ratings.itertuples():\n",
        "    user = line[1]-1\n",
        "    movie = line[2]-1\n",
        "    rating = line[3]\n",
        "    data_matrix[user, movie] = rating\n",
        "\n",
        "mean_user_rating = np.nanmean(data_matrix, axis=1).reshape(-1, 1)\n",
        "\n",
        "ratings_diff = (data_matrix - mean_user_rating)\n",
        "ratings_diff[np.isnan(ratings_diff)]=0"
      ],
      "execution_count": 45,
      "outputs": []
    },
    {
      "cell_type": "markdown",
      "metadata": {
        "id": "COjzZxceDxqW"
      },
      "source": [
        "### Create item X item similarity matrix"
      ]
    },
    {
      "cell_type": "code",
      "metadata": {
        "colab": {
          "base_uri": "https://localhost:8080/"
        },
        "id": "xYVSP1BlECBc",
        "outputId": "40a4e1e1-7e52-4804-f269-e40d29fdfdc0"
      },
      "source": [
        "from sklearn.metrics.pairwise import pairwise_distances\n",
        "\n",
        "#calculate user x user similarity matrix\n",
        "item_similarity = 1-pairwise_distances(ratings_diff.T, metric='cosine')\n",
        "print(item_similarity.shape)\n",
        "pd.DataFrame(item_similarity).round(2)\n",
        "\n",
        "# For each item (i.e., for each row) keep only k most similar items, set the rest to 0. \n",
        "# Note that the item has the highest similarity to themselves.\n",
        "k=10\n",
        "item_similarity = np.array([keep_top_k(np.array(arr),k) for arr  in item_similarity])\n",
        "print(item_similarity.shape)"
      ],
      "execution_count": 46,
      "outputs": [
        {
          "output_type": "stream",
          "name": "stdout",
          "text": [
            "(1682, 1682)\n",
            "(1682, 1682)\n"
          ]
        }
      ]
    },
    {
      "cell_type": "markdown",
      "metadata": {
        "id": "7sz4fPmiE0oq"
      },
      "source": [
        "### Generate predicted ratings matrix"
      ]
    },
    {
      "cell_type": "code",
      "metadata": {
        "colab": {
          "base_uri": "https://localhost:8080/"
        },
        "id": "dMp_6TO4E3Gs",
        "outputId": "b5104e51-4a2d-4201-a471-c3aee0264a79"
      },
      "source": [
        "\n",
        "#pred = mean_user_rating + raitingItem.dot(item_similarity) / np.array([np.abs(item_similarity).sum(axis=1)])\n",
        "\n",
        "# since n-k users have similarity=0, for each user only k most similar users contribute to the predicted ratings\n",
        "pred = (mean_user_rating + ratings_diff.dot(item_similarity) / np.array([np.abs(item_similarity).sum(axis=1)])).T\n",
        "pred.round(2) \n",
        "pred.shape"
      ],
      "execution_count": 47,
      "outputs": [
        {
          "output_type": "execute_result",
          "data": {
            "text/plain": [
              "(1682, 943)"
            ]
          },
          "metadata": {},
          "execution_count": 47
        }
      ]
    },
    {
      "cell_type": "code",
      "source": [
        "pred"
      ],
      "metadata": {
        "id": "D4sBiNbT1Orq",
        "outputId": "f8bbd0c9-9334-48df-85b3-856b2f8cb166",
        "colab": {
          "base_uri": "https://localhost:8080/"
        }
      },
      "execution_count": 48,
      "outputs": [
        {
          "output_type": "execute_result",
          "data": {
            "text/plain": [
              "array([[3.7158479 , 3.62398182, 3.17592593, ..., 3.81911047, 3.99179341,\n",
              "        3.46948357],\n",
              "       [3.21876847, 3.5754717 , 3.17592593, ..., 3.68421053, 3.9453125 ,\n",
              "        4.22115492],\n",
              "       [3.71878943, 3.59858833, 3.17592593, ..., 3.68421053, 4.00274289,\n",
              "        3.55282405],\n",
              "       ...,\n",
              "       [3.56949153, 3.59072745, 3.15719992, ..., 3.68421053, 3.89733854,\n",
              "        3.46948357],\n",
              "       [3.48247504, 3.5754717 , 3.17592593, ..., 3.68421053, 3.9453125 ,\n",
              "        3.4642878 ],\n",
              "       [3.53910776, 3.59605133, 3.17592593, ..., 3.70105866, 3.9453125 ,\n",
              "        3.43655633]])"
            ]
          },
          "metadata": {},
          "execution_count": 48
        }
      ]
    }
  ]
}